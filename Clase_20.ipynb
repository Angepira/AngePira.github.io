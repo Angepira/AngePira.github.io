{
  "nbformat": 4,
  "nbformat_minor": 0,
  "metadata": {
    "colab": {
      "provenance": [],
      "collapsed_sections": [
        "haEtv3TX3Nvq",
        "QV_xFpKY3Vvu",
        "-Q2urf0-4GzS"
      ],
      "include_colab_link": true
    },
    "kernelspec": {
      "name": "python3",
      "display_name": "Python 3"
    },
    "language_info": {
      "name": "python"
    }
  },
  "cells": [
    {
      "cell_type": "markdown",
      "metadata": {
        "id": "view-in-github",
        "colab_type": "text"
      },
      "source": [
        "<a href=\"https://colab.research.google.com/github/Angepira/AngePira.github.io/blob/main/Clase_20.ipynb\" target=\"_parent\"><img src=\"https://colab.research.google.com/assets/colab-badge.svg\" alt=\"Open In Colab\"/></a>"
      ]
    },
    {
      "cell_type": "markdown",
      "source": [
        "# Recuperar y procesar los datos almacenados"
      ],
      "metadata": {
        "id": "6aLKv0UE1Qr1"
      }
    },
    {
      "cell_type": "markdown",
      "source": [
        "En este notebook vamos a aprender a:\n",
        "- Explorar los dataframes \n",
        "- Leer y guardar archivos con ayuda de las liberías pandas y numpy"
      ],
      "metadata": {
        "id": "uh-YiAux8l2K"
      }
    },
    {
      "cell_type": "markdown",
      "source": [
        "## Leyendo y guardando archivos"
      ],
      "metadata": {
        "id": "zyprJ2dM4KoV"
      }
    },
    {
      "cell_type": "markdown",
      "source": [
        "### Numpy\n"
      ],
      "metadata": {
        "id": "JVZFXyrI1UI7"
      }
    },
    {
      "cell_type": "markdown",
      "source": [
        "**Leer archivos CSV**"
      ],
      "metadata": {
        "id": "-l2973N05AD3"
      }
    },
    {
      "cell_type": "code",
      "execution_count": null,
      "metadata": {
        "id": "OLXpzW9Sz8J1"
      },
      "outputs": [],
      "source": [
        "#Importamos librerías\n",
        "from numpy import genfromtxt\n",
        "import numpy as np "
      ]
    },
    {
      "cell_type": "code",
      "source": [
        "#Cargamos el archivo desde link\n",
        "#El archivo se llama \"demo.csv\"\n",
        "url = \"https://drive.google.com/file/d/1ODn7yvHW6QT-STxTMNbG7Agyt2gN2VJo/view?usp=sharing\"\n",
        "path = 'https://drive.google.com/uc?export=download&id='+url.split('/')[-2]"
      ],
      "metadata": {
        "id": "LiOPnsdL3w3h"
      },
      "execution_count": null,
      "outputs": []
    },
    {
      "cell_type": "code",
      "source": [
        "#Abrimos el archivo con numpy y lo imprimimos\n",
        "product_data = genfromtxt(path, delimiter=',')\n",
        "print(product_data)"
      ],
      "metadata": {
        "colab": {
          "base_uri": "https://localhost:8080/"
        },
        "id": "0hTTgaAu36pr",
        "outputId": "ea5210b5-e744-4af4-cb36-073f2e34e570"
      },
      "execution_count": null,
      "outputs": [
        {
          "output_type": "stream",
          "name": "stdout",
          "text": [
            "[[14. 32. 33.]\n",
            " [24. 45. 26.]\n",
            " [27. 38. 39.]]\n"
          ]
        }
      ]
    },
    {
      "cell_type": "code",
      "source": [
        "#Si no lo imprimmos lo muestra como un array de numpy\n",
        "product_data"
      ],
      "metadata": {
        "colab": {
          "base_uri": "https://localhost:8080/"
        },
        "id": "zOucv-Mg0REY",
        "outputId": "bde766a2-07d6-4132-dc46-f9aa1c27bb5e"
      },
      "execution_count": null,
      "outputs": [
        {
          "output_type": "execute_result",
          "data": {
            "text/plain": [
              "array([[14., 32., 33.],\n",
              "       [24., 45., 26.],\n",
              "       [27., 38., 39.]])"
            ]
          },
          "metadata": {},
          "execution_count": 6
        }
      ]
    },
    {
      "cell_type": "markdown",
      "source": [
        "¿Puedo leer archivos de csv que tenga strings con numpy?"
      ],
      "metadata": {
        "id": "2_PcuVEV4vwH"
      }
    },
    {
      "cell_type": "markdown",
      "source": [
        "**Escribir archivos CSV**\n"
      ],
      "metadata": {
        "id": "8Tbk3UoI1XTl"
      }
    },
    {
      "cell_type": "code",
      "source": [
        "#Creo un array\n",
        "sample_array = np.asarray([ [1,2,3], [4,5,6], [7,8,9] ])\n",
        "sample_array"
      ],
      "metadata": {
        "colab": {
          "base_uri": "https://localhost:8080/"
        },
        "id": "pEtX6LiT5L11",
        "outputId": "267f7080-cbaa-4b47-90cf-b87fced26491"
      },
      "execution_count": null,
      "outputs": [
        {
          "output_type": "execute_result",
          "data": {
            "text/plain": [
              "array([[1, 2, 3],\n",
              "       [4, 5, 6],\n",
              "       [7, 8, 9]])"
            ]
          },
          "metadata": {},
          "execution_count": 8
        }
      ]
    },
    {
      "cell_type": "code",
      "source": [
        "#Guardamos el array como csv\n",
        "np.savetxt(\"my_first_demo_numpy.csv\", sample_array, delimiter=\",\") "
      ],
      "metadata": {
        "id": "x_OqFJob1CVa"
      },
      "execution_count": null,
      "outputs": []
    },
    {
      "cell_type": "markdown",
      "source": [
        "### Pandas\n"
      ],
      "metadata": {
        "id": "UBLgv3jA1e1g"
      }
    },
    {
      "cell_type": "markdown",
      "source": [
        "#### CSV"
      ],
      "metadata": {
        "id": "AjSSN3mw60zT"
      }
    },
    {
      "cell_type": "markdown",
      "source": [
        "**Leyendo archivos CSV**"
      ],
      "metadata": {
        "id": "RZKqE7uQ5kvk"
      }
    },
    {
      "cell_type": "code",
      "source": [
        "#Tomamos el mismo path de arriba\n",
        "#El archivo se llama \"demo.csv\"\n",
        "path"
      ],
      "metadata": {
        "colab": {
          "base_uri": "https://localhost:8080/",
          "height": 35
        },
        "id": "3QiaAFN35n8E",
        "outputId": "0da7562f-d557-45e0-ee89-d80a37deae8b"
      },
      "execution_count": null,
      "outputs": [
        {
          "output_type": "execute_result",
          "data": {
            "text/plain": [
              "'https://drive.google.com/uc?export=download&id=1ODn7yvHW6QT-STxTMNbG7Agyt2gN2VJo'"
            ],
            "application/vnd.google.colaboratory.intrinsic+json": {
              "type": "string"
            }
          },
          "metadata": {},
          "execution_count": 10
        }
      ]
    },
    {
      "cell_type": "code",
      "source": [
        "#importamos la librería\n",
        "import pandas as pd "
      ],
      "metadata": {
        "id": "1Q1Yhlmc52IF"
      },
      "execution_count": null,
      "outputs": []
    },
    {
      "cell_type": "code",
      "source": [
        "sample_df = pd.read_csv(path)\n",
        "sample_df"
      ],
      "metadata": {
        "colab": {
          "base_uri": "https://localhost:8080/",
          "height": 112
        },
        "id": "2UBnzSFO55FL",
        "outputId": "b2f09280-1fab-4faa-fed0-16e23c08f8b3"
      },
      "execution_count": null,
      "outputs": [
        {
          "output_type": "execute_result",
          "data": {
            "text/plain": [
              "   14  32  33\n",
              "0  24  45  26\n",
              "1  27  38  39"
            ],
            "text/html": [
              "\n",
              "  <div id=\"df-f365cafd-ff57-4d55-bde5-02c7cb095def\">\n",
              "    <div class=\"colab-df-container\">\n",
              "      <div>\n",
              "<style scoped>\n",
              "    .dataframe tbody tr th:only-of-type {\n",
              "        vertical-align: middle;\n",
              "    }\n",
              "\n",
              "    .dataframe tbody tr th {\n",
              "        vertical-align: top;\n",
              "    }\n",
              "\n",
              "    .dataframe thead th {\n",
              "        text-align: right;\n",
              "    }\n",
              "</style>\n",
              "<table border=\"1\" class=\"dataframe\">\n",
              "  <thead>\n",
              "    <tr style=\"text-align: right;\">\n",
              "      <th></th>\n",
              "      <th>14</th>\n",
              "      <th>32</th>\n",
              "      <th>33</th>\n",
              "    </tr>\n",
              "  </thead>\n",
              "  <tbody>\n",
              "    <tr>\n",
              "      <th>0</th>\n",
              "      <td>24</td>\n",
              "      <td>45</td>\n",
              "      <td>26</td>\n",
              "    </tr>\n",
              "    <tr>\n",
              "      <th>1</th>\n",
              "      <td>27</td>\n",
              "      <td>38</td>\n",
              "      <td>39</td>\n",
              "    </tr>\n",
              "  </tbody>\n",
              "</table>\n",
              "</div>\n",
              "      <button class=\"colab-df-convert\" onclick=\"convertToInteractive('df-f365cafd-ff57-4d55-bde5-02c7cb095def')\"\n",
              "              title=\"Convert this dataframe to an interactive table.\"\n",
              "              style=\"display:none;\">\n",
              "        \n",
              "  <svg xmlns=\"http://www.w3.org/2000/svg\" height=\"24px\"viewBox=\"0 0 24 24\"\n",
              "       width=\"24px\">\n",
              "    <path d=\"M0 0h24v24H0V0z\" fill=\"none\"/>\n",
              "    <path d=\"M18.56 5.44l.94 2.06.94-2.06 2.06-.94-2.06-.94-.94-2.06-.94 2.06-2.06.94zm-11 1L8.5 8.5l.94-2.06 2.06-.94-2.06-.94L8.5 2.5l-.94 2.06-2.06.94zm10 10l.94 2.06.94-2.06 2.06-.94-2.06-.94-.94-2.06-.94 2.06-2.06.94z\"/><path d=\"M17.41 7.96l-1.37-1.37c-.4-.4-.92-.59-1.43-.59-.52 0-1.04.2-1.43.59L10.3 9.45l-7.72 7.72c-.78.78-.78 2.05 0 2.83L4 21.41c.39.39.9.59 1.41.59.51 0 1.02-.2 1.41-.59l7.78-7.78 2.81-2.81c.8-.78.8-2.07 0-2.86zM5.41 20L4 18.59l7.72-7.72 1.47 1.35L5.41 20z\"/>\n",
              "  </svg>\n",
              "      </button>\n",
              "      \n",
              "  <style>\n",
              "    .colab-df-container {\n",
              "      display:flex;\n",
              "      flex-wrap:wrap;\n",
              "      gap: 12px;\n",
              "    }\n",
              "\n",
              "    .colab-df-convert {\n",
              "      background-color: #E8F0FE;\n",
              "      border: none;\n",
              "      border-radius: 50%;\n",
              "      cursor: pointer;\n",
              "      display: none;\n",
              "      fill: #1967D2;\n",
              "      height: 32px;\n",
              "      padding: 0 0 0 0;\n",
              "      width: 32px;\n",
              "    }\n",
              "\n",
              "    .colab-df-convert:hover {\n",
              "      background-color: #E2EBFA;\n",
              "      box-shadow: 0px 1px 2px rgba(60, 64, 67, 0.3), 0px 1px 3px 1px rgba(60, 64, 67, 0.15);\n",
              "      fill: #174EA6;\n",
              "    }\n",
              "\n",
              "    [theme=dark] .colab-df-convert {\n",
              "      background-color: #3B4455;\n",
              "      fill: #D2E3FC;\n",
              "    }\n",
              "\n",
              "    [theme=dark] .colab-df-convert:hover {\n",
              "      background-color: #434B5C;\n",
              "      box-shadow: 0px 1px 3px 1px rgba(0, 0, 0, 0.15);\n",
              "      filter: drop-shadow(0px 1px 2px rgba(0, 0, 0, 0.3));\n",
              "      fill: #FFFFFF;\n",
              "    }\n",
              "  </style>\n",
              "\n",
              "      <script>\n",
              "        const buttonEl =\n",
              "          document.querySelector('#df-f365cafd-ff57-4d55-bde5-02c7cb095def button.colab-df-convert');\n",
              "        buttonEl.style.display =\n",
              "          google.colab.kernel.accessAllowed ? 'block' : 'none';\n",
              "\n",
              "        async function convertToInteractive(key) {\n",
              "          const element = document.querySelector('#df-f365cafd-ff57-4d55-bde5-02c7cb095def');\n",
              "          const dataTable =\n",
              "            await google.colab.kernel.invokeFunction('convertToInteractive',\n",
              "                                                     [key], {});\n",
              "          if (!dataTable) return;\n",
              "\n",
              "          const docLinkHtml = 'Like what you see? Visit the ' +\n",
              "            '<a target=\"_blank\" href=https://colab.research.google.com/notebooks/data_table.ipynb>data table notebook</a>'\n",
              "            + ' to learn more about interactive tables.';\n",
              "          element.innerHTML = '';\n",
              "          dataTable['output_type'] = 'display_data';\n",
              "          await google.colab.output.renderOutput(dataTable, element);\n",
              "          const docLink = document.createElement('div');\n",
              "          docLink.innerHTML = docLinkHtml;\n",
              "          element.appendChild(docLink);\n",
              "        }\n",
              "      </script>\n",
              "    </div>\n",
              "  </div>\n",
              "  "
            ]
          },
          "metadata": {},
          "execution_count": 12
        }
      ]
    },
    {
      "cell_type": "code",
      "source": [
        "sample_df = pd.read_csv(path, sep=',',header=None)\n",
        "sample_df.head() "
      ],
      "metadata": {
        "colab": {
          "base_uri": "https://localhost:8080/",
          "height": 144
        },
        "id": "FlMkLN6g1G73",
        "outputId": "a9a37960-48cb-4e04-dd94-a8de9c87a758"
      },
      "execution_count": null,
      "outputs": [
        {
          "output_type": "execute_result",
          "data": {
            "text/plain": [
              "    0   1   2\n",
              "0  14  32  33\n",
              "1  24  45  26\n",
              "2  27  38  39"
            ],
            "text/html": [
              "\n",
              "  <div id=\"df-13350d57-562d-4930-a1e6-9820239f4e24\">\n",
              "    <div class=\"colab-df-container\">\n",
              "      <div>\n",
              "<style scoped>\n",
              "    .dataframe tbody tr th:only-of-type {\n",
              "        vertical-align: middle;\n",
              "    }\n",
              "\n",
              "    .dataframe tbody tr th {\n",
              "        vertical-align: top;\n",
              "    }\n",
              "\n",
              "    .dataframe thead th {\n",
              "        text-align: right;\n",
              "    }\n",
              "</style>\n",
              "<table border=\"1\" class=\"dataframe\">\n",
              "  <thead>\n",
              "    <tr style=\"text-align: right;\">\n",
              "      <th></th>\n",
              "      <th>0</th>\n",
              "      <th>1</th>\n",
              "      <th>2</th>\n",
              "    </tr>\n",
              "  </thead>\n",
              "  <tbody>\n",
              "    <tr>\n",
              "      <th>0</th>\n",
              "      <td>14</td>\n",
              "      <td>32</td>\n",
              "      <td>33</td>\n",
              "    </tr>\n",
              "    <tr>\n",
              "      <th>1</th>\n",
              "      <td>24</td>\n",
              "      <td>45</td>\n",
              "      <td>26</td>\n",
              "    </tr>\n",
              "    <tr>\n",
              "      <th>2</th>\n",
              "      <td>27</td>\n",
              "      <td>38</td>\n",
              "      <td>39</td>\n",
              "    </tr>\n",
              "  </tbody>\n",
              "</table>\n",
              "</div>\n",
              "      <button class=\"colab-df-convert\" onclick=\"convertToInteractive('df-13350d57-562d-4930-a1e6-9820239f4e24')\"\n",
              "              title=\"Convert this dataframe to an interactive table.\"\n",
              "              style=\"display:none;\">\n",
              "        \n",
              "  <svg xmlns=\"http://www.w3.org/2000/svg\" height=\"24px\"viewBox=\"0 0 24 24\"\n",
              "       width=\"24px\">\n",
              "    <path d=\"M0 0h24v24H0V0z\" fill=\"none\"/>\n",
              "    <path d=\"M18.56 5.44l.94 2.06.94-2.06 2.06-.94-2.06-.94-.94-2.06-.94 2.06-2.06.94zm-11 1L8.5 8.5l.94-2.06 2.06-.94-2.06-.94L8.5 2.5l-.94 2.06-2.06.94zm10 10l.94 2.06.94-2.06 2.06-.94-2.06-.94-.94-2.06-.94 2.06-2.06.94z\"/><path d=\"M17.41 7.96l-1.37-1.37c-.4-.4-.92-.59-1.43-.59-.52 0-1.04.2-1.43.59L10.3 9.45l-7.72 7.72c-.78.78-.78 2.05 0 2.83L4 21.41c.39.39.9.59 1.41.59.51 0 1.02-.2 1.41-.59l7.78-7.78 2.81-2.81c.8-.78.8-2.07 0-2.86zM5.41 20L4 18.59l7.72-7.72 1.47 1.35L5.41 20z\"/>\n",
              "  </svg>\n",
              "      </button>\n",
              "      \n",
              "  <style>\n",
              "    .colab-df-container {\n",
              "      display:flex;\n",
              "      flex-wrap:wrap;\n",
              "      gap: 12px;\n",
              "    }\n",
              "\n",
              "    .colab-df-convert {\n",
              "      background-color: #E8F0FE;\n",
              "      border: none;\n",
              "      border-radius: 50%;\n",
              "      cursor: pointer;\n",
              "      display: none;\n",
              "      fill: #1967D2;\n",
              "      height: 32px;\n",
              "      padding: 0 0 0 0;\n",
              "      width: 32px;\n",
              "    }\n",
              "\n",
              "    .colab-df-convert:hover {\n",
              "      background-color: #E2EBFA;\n",
              "      box-shadow: 0px 1px 2px rgba(60, 64, 67, 0.3), 0px 1px 3px 1px rgba(60, 64, 67, 0.15);\n",
              "      fill: #174EA6;\n",
              "    }\n",
              "\n",
              "    [theme=dark] .colab-df-convert {\n",
              "      background-color: #3B4455;\n",
              "      fill: #D2E3FC;\n",
              "    }\n",
              "\n",
              "    [theme=dark] .colab-df-convert:hover {\n",
              "      background-color: #434B5C;\n",
              "      box-shadow: 0px 1px 3px 1px rgba(0, 0, 0, 0.15);\n",
              "      filter: drop-shadow(0px 1px 2px rgba(0, 0, 0, 0.3));\n",
              "      fill: #FFFFFF;\n",
              "    }\n",
              "  </style>\n",
              "\n",
              "      <script>\n",
              "        const buttonEl =\n",
              "          document.querySelector('#df-13350d57-562d-4930-a1e6-9820239f4e24 button.colab-df-convert');\n",
              "        buttonEl.style.display =\n",
              "          google.colab.kernel.accessAllowed ? 'block' : 'none';\n",
              "\n",
              "        async function convertToInteractive(key) {\n",
              "          const element = document.querySelector('#df-13350d57-562d-4930-a1e6-9820239f4e24');\n",
              "          const dataTable =\n",
              "            await google.colab.kernel.invokeFunction('convertToInteractive',\n",
              "                                                     [key], {});\n",
              "          if (!dataTable) return;\n",
              "\n",
              "          const docLinkHtml = 'Like what you see? Visit the ' +\n",
              "            '<a target=\"_blank\" href=https://colab.research.google.com/notebooks/data_table.ipynb>data table notebook</a>'\n",
              "            + ' to learn more about interactive tables.';\n",
              "          element.innerHTML = '';\n",
              "          dataTable['output_type'] = 'display_data';\n",
              "          await google.colab.output.renderOutput(dataTable, element);\n",
              "          const docLink = document.createElement('div');\n",
              "          docLink.innerHTML = docLinkHtml;\n",
              "          element.appendChild(docLink);\n",
              "        }\n",
              "      </script>\n",
              "    </div>\n",
              "  </div>\n",
              "  "
            ]
          },
          "metadata": {},
          "execution_count": 5
        }
      ]
    },
    {
      "cell_type": "markdown",
      "source": [
        "**Escribiendo archivos CSV**\n"
      ],
      "metadata": {
        "id": "1Rbrm8kU1_ii"
      }
    },
    {
      "cell_type": "code",
      "source": [
        "sample_df.to_csv('demo_sample_df_pandas.csv') "
      ],
      "metadata": {
        "id": "GtkQ5-Rp10bI"
      },
      "execution_count": null,
      "outputs": []
    },
    {
      "cell_type": "markdown",
      "source": [
        "#### Excel\n"
      ],
      "metadata": {
        "id": "1TVT4_tr2Xp4"
      }
    },
    {
      "cell_type": "markdown",
      "source": [
        "Leyendo datos"
      ],
      "metadata": {
        "id": "81hSG1v-65rQ"
      }
    },
    {
      "cell_type": "code",
      "source": [
        "#Cargamos el archivo desde link\n",
        "#El archivo se llama 'employee.xlsx'\n",
        "url2 = \"https://docs.google.com/spreadsheets/d/1wluZRQBbRPaX5u1omZbcaUizMjB6TC5T/edit?usp=share_link&ouid=102253785812570814884&rtpof=true&sd=true\"\n",
        "path2 = 'https://drive.google.com/uc?export=download&id='+url2.split('/')[-2]"
      ],
      "metadata": {
        "id": "aS-TscE86PVI"
      },
      "execution_count": null,
      "outputs": []
    },
    {
      "cell_type": "code",
      "source": [
        "pd.read_excel(path2)"
      ],
      "metadata": {
        "colab": {
          "base_uri": "https://localhost:8080/",
          "height": 332
        },
        "id": "WcAgfN7y6fcm",
        "outputId": "79bf48a2-f813-4cdf-8921-2bd91b01acb5"
      },
      "execution_count": null,
      "outputs": [
        {
          "output_type": "execute_result",
          "data": {
            "text/plain": [
              "            name   age   income gender  department grade\n",
              "0    Allen Smith  45.0      NaN    NaN  Operations    G3\n",
              "1        S Kumar   NaN  16000.0      F     Finance    G0\n",
              "2    Jack Morgan  32.0  35000.0      M     Finance    G2\n",
              "3      Ying Chin  45.0  65000.0      F       Sales    G3\n",
              "4  Dheeraj Patel  30.0  42000.0      F  Operations    G2\n",
              "5  Satyam Sharma   NaN  62000.0    NaN       Sales    G3\n",
              "6   James Authur  54.0      NaN      F  Operations    G3\n",
              "7     Josh Wills  54.0  52000.0      F     Finance    G3\n",
              "8       Leo Duck  23.0  98000.0      M       Sales    G4"
            ],
            "text/html": [
              "\n",
              "  <div id=\"df-ce0155d2-c210-4921-b4e0-76ae4e722797\">\n",
              "    <div class=\"colab-df-container\">\n",
              "      <div>\n",
              "<style scoped>\n",
              "    .dataframe tbody tr th:only-of-type {\n",
              "        vertical-align: middle;\n",
              "    }\n",
              "\n",
              "    .dataframe tbody tr th {\n",
              "        vertical-align: top;\n",
              "    }\n",
              "\n",
              "    .dataframe thead th {\n",
              "        text-align: right;\n",
              "    }\n",
              "</style>\n",
              "<table border=\"1\" class=\"dataframe\">\n",
              "  <thead>\n",
              "    <tr style=\"text-align: right;\">\n",
              "      <th></th>\n",
              "      <th>name</th>\n",
              "      <th>age</th>\n",
              "      <th>income</th>\n",
              "      <th>gender</th>\n",
              "      <th>department</th>\n",
              "      <th>grade</th>\n",
              "    </tr>\n",
              "  </thead>\n",
              "  <tbody>\n",
              "    <tr>\n",
              "      <th>0</th>\n",
              "      <td>Allen Smith</td>\n",
              "      <td>45.0</td>\n",
              "      <td>NaN</td>\n",
              "      <td>NaN</td>\n",
              "      <td>Operations</td>\n",
              "      <td>G3</td>\n",
              "    </tr>\n",
              "    <tr>\n",
              "      <th>1</th>\n",
              "      <td>S Kumar</td>\n",
              "      <td>NaN</td>\n",
              "      <td>16000.0</td>\n",
              "      <td>F</td>\n",
              "      <td>Finance</td>\n",
              "      <td>G0</td>\n",
              "    </tr>\n",
              "    <tr>\n",
              "      <th>2</th>\n",
              "      <td>Jack Morgan</td>\n",
              "      <td>32.0</td>\n",
              "      <td>35000.0</td>\n",
              "      <td>M</td>\n",
              "      <td>Finance</td>\n",
              "      <td>G2</td>\n",
              "    </tr>\n",
              "    <tr>\n",
              "      <th>3</th>\n",
              "      <td>Ying Chin</td>\n",
              "      <td>45.0</td>\n",
              "      <td>65000.0</td>\n",
              "      <td>F</td>\n",
              "      <td>Sales</td>\n",
              "      <td>G3</td>\n",
              "    </tr>\n",
              "    <tr>\n",
              "      <th>4</th>\n",
              "      <td>Dheeraj Patel</td>\n",
              "      <td>30.0</td>\n",
              "      <td>42000.0</td>\n",
              "      <td>F</td>\n",
              "      <td>Operations</td>\n",
              "      <td>G2</td>\n",
              "    </tr>\n",
              "    <tr>\n",
              "      <th>5</th>\n",
              "      <td>Satyam Sharma</td>\n",
              "      <td>NaN</td>\n",
              "      <td>62000.0</td>\n",
              "      <td>NaN</td>\n",
              "      <td>Sales</td>\n",
              "      <td>G3</td>\n",
              "    </tr>\n",
              "    <tr>\n",
              "      <th>6</th>\n",
              "      <td>James Authur</td>\n",
              "      <td>54.0</td>\n",
              "      <td>NaN</td>\n",
              "      <td>F</td>\n",
              "      <td>Operations</td>\n",
              "      <td>G3</td>\n",
              "    </tr>\n",
              "    <tr>\n",
              "      <th>7</th>\n",
              "      <td>Josh Wills</td>\n",
              "      <td>54.0</td>\n",
              "      <td>52000.0</td>\n",
              "      <td>F</td>\n",
              "      <td>Finance</td>\n",
              "      <td>G3</td>\n",
              "    </tr>\n",
              "    <tr>\n",
              "      <th>8</th>\n",
              "      <td>Leo Duck</td>\n",
              "      <td>23.0</td>\n",
              "      <td>98000.0</td>\n",
              "      <td>M</td>\n",
              "      <td>Sales</td>\n",
              "      <td>G4</td>\n",
              "    </tr>\n",
              "  </tbody>\n",
              "</table>\n",
              "</div>\n",
              "      <button class=\"colab-df-convert\" onclick=\"convertToInteractive('df-ce0155d2-c210-4921-b4e0-76ae4e722797')\"\n",
              "              title=\"Convert this dataframe to an interactive table.\"\n",
              "              style=\"display:none;\">\n",
              "        \n",
              "  <svg xmlns=\"http://www.w3.org/2000/svg\" height=\"24px\"viewBox=\"0 0 24 24\"\n",
              "       width=\"24px\">\n",
              "    <path d=\"M0 0h24v24H0V0z\" fill=\"none\"/>\n",
              "    <path d=\"M18.56 5.44l.94 2.06.94-2.06 2.06-.94-2.06-.94-.94-2.06-.94 2.06-2.06.94zm-11 1L8.5 8.5l.94-2.06 2.06-.94-2.06-.94L8.5 2.5l-.94 2.06-2.06.94zm10 10l.94 2.06.94-2.06 2.06-.94-2.06-.94-.94-2.06-.94 2.06-2.06.94z\"/><path d=\"M17.41 7.96l-1.37-1.37c-.4-.4-.92-.59-1.43-.59-.52 0-1.04.2-1.43.59L10.3 9.45l-7.72 7.72c-.78.78-.78 2.05 0 2.83L4 21.41c.39.39.9.59 1.41.59.51 0 1.02-.2 1.41-.59l7.78-7.78 2.81-2.81c.8-.78.8-2.07 0-2.86zM5.41 20L4 18.59l7.72-7.72 1.47 1.35L5.41 20z\"/>\n",
              "  </svg>\n",
              "      </button>\n",
              "      \n",
              "  <style>\n",
              "    .colab-df-container {\n",
              "      display:flex;\n",
              "      flex-wrap:wrap;\n",
              "      gap: 12px;\n",
              "    }\n",
              "\n",
              "    .colab-df-convert {\n",
              "      background-color: #E8F0FE;\n",
              "      border: none;\n",
              "      border-radius: 50%;\n",
              "      cursor: pointer;\n",
              "      display: none;\n",
              "      fill: #1967D2;\n",
              "      height: 32px;\n",
              "      padding: 0 0 0 0;\n",
              "      width: 32px;\n",
              "    }\n",
              "\n",
              "    .colab-df-convert:hover {\n",
              "      background-color: #E2EBFA;\n",
              "      box-shadow: 0px 1px 2px rgba(60, 64, 67, 0.3), 0px 1px 3px 1px rgba(60, 64, 67, 0.15);\n",
              "      fill: #174EA6;\n",
              "    }\n",
              "\n",
              "    [theme=dark] .colab-df-convert {\n",
              "      background-color: #3B4455;\n",
              "      fill: #D2E3FC;\n",
              "    }\n",
              "\n",
              "    [theme=dark] .colab-df-convert:hover {\n",
              "      background-color: #434B5C;\n",
              "      box-shadow: 0px 1px 3px 1px rgba(0, 0, 0, 0.15);\n",
              "      filter: drop-shadow(0px 1px 2px rgba(0, 0, 0, 0.3));\n",
              "      fill: #FFFFFF;\n",
              "    }\n",
              "  </style>\n",
              "\n",
              "      <script>\n",
              "        const buttonEl =\n",
              "          document.querySelector('#df-ce0155d2-c210-4921-b4e0-76ae4e722797 button.colab-df-convert');\n",
              "        buttonEl.style.display =\n",
              "          google.colab.kernel.accessAllowed ? 'block' : 'none';\n",
              "\n",
              "        async function convertToInteractive(key) {\n",
              "          const element = document.querySelector('#df-ce0155d2-c210-4921-b4e0-76ae4e722797');\n",
              "          const dataTable =\n",
              "            await google.colab.kernel.invokeFunction('convertToInteractive',\n",
              "                                                     [key], {});\n",
              "          if (!dataTable) return;\n",
              "\n",
              "          const docLinkHtml = 'Like what you see? Visit the ' +\n",
              "            '<a target=\"_blank\" href=https://colab.research.google.com/notebooks/data_table.ipynb>data table notebook</a>'\n",
              "            + ' to learn more about interactive tables.';\n",
              "          element.innerHTML = '';\n",
              "          dataTable['output_type'] = 'display_data';\n",
              "          await google.colab.output.renderOutput(dataTable, element);\n",
              "          const docLink = document.createElement('div');\n",
              "          docLink.innerHTML = docLinkHtml;\n",
              "          element.appendChild(docLink);\n",
              "        }\n",
              "      </script>\n",
              "    </div>\n",
              "  </div>\n",
              "  "
            ]
          },
          "metadata": {},
          "execution_count": 18
        }
      ]
    },
    {
      "cell_type": "code",
      "source": [
        "emp_df = pd.read_excel(path2, sheet_name='performance')\n",
        "emp_df"
      ],
      "metadata": {
        "colab": {
          "base_uri": "https://localhost:8080/",
          "height": 332
        },
        "id": "opVhyiKI2jx8",
        "outputId": "e75a8bf2-32a9-4fc7-eda7-4fd42b7dd1f1"
      },
      "execution_count": null,
      "outputs": [
        {
          "output_type": "execute_result",
          "data": {
            "text/plain": [
              "            name  performance_score\n",
              "0    Allen Smith                723\n",
              "1        S Kumar                520\n",
              "2    Jack Morgan                674\n",
              "3      Ying Chin                556\n",
              "4  Dheeraj Patel                711\n",
              "5  Satyam Sharma                649\n",
              "6   James Authur                 53\n",
              "7     Josh Wills                901\n",
              "8       Leo Duck                709"
            ],
            "text/html": [
              "\n",
              "  <div id=\"df-15d7cc3f-7fe5-404e-ac75-1bd4d1e6f168\">\n",
              "    <div class=\"colab-df-container\">\n",
              "      <div>\n",
              "<style scoped>\n",
              "    .dataframe tbody tr th:only-of-type {\n",
              "        vertical-align: middle;\n",
              "    }\n",
              "\n",
              "    .dataframe tbody tr th {\n",
              "        vertical-align: top;\n",
              "    }\n",
              "\n",
              "    .dataframe thead th {\n",
              "        text-align: right;\n",
              "    }\n",
              "</style>\n",
              "<table border=\"1\" class=\"dataframe\">\n",
              "  <thead>\n",
              "    <tr style=\"text-align: right;\">\n",
              "      <th></th>\n",
              "      <th>name</th>\n",
              "      <th>performance_score</th>\n",
              "    </tr>\n",
              "  </thead>\n",
              "  <tbody>\n",
              "    <tr>\n",
              "      <th>0</th>\n",
              "      <td>Allen Smith</td>\n",
              "      <td>723</td>\n",
              "    </tr>\n",
              "    <tr>\n",
              "      <th>1</th>\n",
              "      <td>S Kumar</td>\n",
              "      <td>520</td>\n",
              "    </tr>\n",
              "    <tr>\n",
              "      <th>2</th>\n",
              "      <td>Jack Morgan</td>\n",
              "      <td>674</td>\n",
              "    </tr>\n",
              "    <tr>\n",
              "      <th>3</th>\n",
              "      <td>Ying Chin</td>\n",
              "      <td>556</td>\n",
              "    </tr>\n",
              "    <tr>\n",
              "      <th>4</th>\n",
              "      <td>Dheeraj Patel</td>\n",
              "      <td>711</td>\n",
              "    </tr>\n",
              "    <tr>\n",
              "      <th>5</th>\n",
              "      <td>Satyam Sharma</td>\n",
              "      <td>649</td>\n",
              "    </tr>\n",
              "    <tr>\n",
              "      <th>6</th>\n",
              "      <td>James Authur</td>\n",
              "      <td>53</td>\n",
              "    </tr>\n",
              "    <tr>\n",
              "      <th>7</th>\n",
              "      <td>Josh Wills</td>\n",
              "      <td>901</td>\n",
              "    </tr>\n",
              "    <tr>\n",
              "      <th>8</th>\n",
              "      <td>Leo Duck</td>\n",
              "      <td>709</td>\n",
              "    </tr>\n",
              "  </tbody>\n",
              "</table>\n",
              "</div>\n",
              "      <button class=\"colab-df-convert\" onclick=\"convertToInteractive('df-15d7cc3f-7fe5-404e-ac75-1bd4d1e6f168')\"\n",
              "              title=\"Convert this dataframe to an interactive table.\"\n",
              "              style=\"display:none;\">\n",
              "        \n",
              "  <svg xmlns=\"http://www.w3.org/2000/svg\" height=\"24px\"viewBox=\"0 0 24 24\"\n",
              "       width=\"24px\">\n",
              "    <path d=\"M0 0h24v24H0V0z\" fill=\"none\"/>\n",
              "    <path d=\"M18.56 5.44l.94 2.06.94-2.06 2.06-.94-2.06-.94-.94-2.06-.94 2.06-2.06.94zm-11 1L8.5 8.5l.94-2.06 2.06-.94-2.06-.94L8.5 2.5l-.94 2.06-2.06.94zm10 10l.94 2.06.94-2.06 2.06-.94-2.06-.94-.94-2.06-.94 2.06-2.06.94z\"/><path d=\"M17.41 7.96l-1.37-1.37c-.4-.4-.92-.59-1.43-.59-.52 0-1.04.2-1.43.59L10.3 9.45l-7.72 7.72c-.78.78-.78 2.05 0 2.83L4 21.41c.39.39.9.59 1.41.59.51 0 1.02-.2 1.41-.59l7.78-7.78 2.81-2.81c.8-.78.8-2.07 0-2.86zM5.41 20L4 18.59l7.72-7.72 1.47 1.35L5.41 20z\"/>\n",
              "  </svg>\n",
              "      </button>\n",
              "      \n",
              "  <style>\n",
              "    .colab-df-container {\n",
              "      display:flex;\n",
              "      flex-wrap:wrap;\n",
              "      gap: 12px;\n",
              "    }\n",
              "\n",
              "    .colab-df-convert {\n",
              "      background-color: #E8F0FE;\n",
              "      border: none;\n",
              "      border-radius: 50%;\n",
              "      cursor: pointer;\n",
              "      display: none;\n",
              "      fill: #1967D2;\n",
              "      height: 32px;\n",
              "      padding: 0 0 0 0;\n",
              "      width: 32px;\n",
              "    }\n",
              "\n",
              "    .colab-df-convert:hover {\n",
              "      background-color: #E2EBFA;\n",
              "      box-shadow: 0px 1px 2px rgba(60, 64, 67, 0.3), 0px 1px 3px 1px rgba(60, 64, 67, 0.15);\n",
              "      fill: #174EA6;\n",
              "    }\n",
              "\n",
              "    [theme=dark] .colab-df-convert {\n",
              "      background-color: #3B4455;\n",
              "      fill: #D2E3FC;\n",
              "    }\n",
              "\n",
              "    [theme=dark] .colab-df-convert:hover {\n",
              "      background-color: #434B5C;\n",
              "      box-shadow: 0px 1px 3px 1px rgba(0, 0, 0, 0.15);\n",
              "      filter: drop-shadow(0px 1px 2px rgba(0, 0, 0, 0.3));\n",
              "      fill: #FFFFFF;\n",
              "    }\n",
              "  </style>\n",
              "\n",
              "      <script>\n",
              "        const buttonEl =\n",
              "          document.querySelector('#df-15d7cc3f-7fe5-404e-ac75-1bd4d1e6f168 button.colab-df-convert');\n",
              "        buttonEl.style.display =\n",
              "          google.colab.kernel.accessAllowed ? 'block' : 'none';\n",
              "\n",
              "        async function convertToInteractive(key) {\n",
              "          const element = document.querySelector('#df-15d7cc3f-7fe5-404e-ac75-1bd4d1e6f168');\n",
              "          const dataTable =\n",
              "            await google.colab.kernel.invokeFunction('convertToInteractive',\n",
              "                                                     [key], {});\n",
              "          if (!dataTable) return;\n",
              "\n",
              "          const docLinkHtml = 'Like what you see? Visit the ' +\n",
              "            '<a target=\"_blank\" href=https://colab.research.google.com/notebooks/data_table.ipynb>data table notebook</a>'\n",
              "            + ' to learn more about interactive tables.';\n",
              "          element.innerHTML = '';\n",
              "          dataTable['output_type'] = 'display_data';\n",
              "          await google.colab.output.renderOutput(dataTable, element);\n",
              "          const docLink = document.createElement('div');\n",
              "          docLink.innerHTML = docLinkHtml;\n",
              "          element.appendChild(docLink);\n",
              "        }\n",
              "      </script>\n",
              "    </div>\n",
              "  </div>\n",
              "  "
            ]
          },
          "metadata": {},
          "execution_count": 22
        }
      ]
    },
    {
      "cell_type": "markdown",
      "source": [
        "**Escribiendo datos**\n"
      ],
      "metadata": {
        "id": "MB8DrNEF3AzU"
      }
    },
    {
      "cell_type": "code",
      "source": [
        "with pd.ExcelWriter('new_employee_details.xlsx') as writer:\n",
        "  emp_df.to_excel(writer, sheet_name='employee')\n",
        "  emp_df.to_excel(writer, sheet_name='performance') "
      ],
      "metadata": {
        "id": "TuMk7LCR2ToX"
      },
      "execution_count": null,
      "outputs": []
    },
    {
      "cell_type": "markdown",
      "source": [
        "#### JSON"
      ],
      "metadata": {
        "id": "Boz2MNj_3FL4"
      }
    },
    {
      "cell_type": "markdown",
      "source": [
        "**Leyendo datos**"
      ],
      "metadata": {
        "id": "-zVRlpJ47QEK"
      }
    },
    {
      "cell_type": "code",
      "source": [
        "#Cargamos el archivo desde link\n",
        "#El archivo se llama 'employee.json'\n",
        "url3 = \"https://drive.google.com/file/d/16bEvPX-QmHqNsuz1zCibWaeRYsHn2-6N/view?usp=sharing\"\n",
        "path3 = 'https://drive.google.com/uc?export=download&id='+url3.split('/')[-2]"
      ],
      "metadata": {
        "id": "-PyHMstx7WQN"
      },
      "execution_count": null,
      "outputs": []
    },
    {
      "cell_type": "code",
      "source": [
        "df = pd.read_json(path3)\n",
        "df"
      ],
      "metadata": {
        "colab": {
          "base_uri": "https://localhost:8080/",
          "height": 332
        },
        "id": "zhjRpBVO21L0",
        "outputId": "20c3d2a5-9547-43b8-f140-e708917de404"
      },
      "execution_count": null,
      "outputs": [
        {
          "output_type": "execute_result",
          "data": {
            "text/plain": [
              "            name   age   income gender  department grade\n",
              "0    Allen Smith  45.0      NaN   None  Operations    G3\n",
              "1        S Kumar   NaN  16000.0      F     Finance    G0\n",
              "2    Jack Morgan  32.0  35000.0      M     Finance    G2\n",
              "3      Ying Chin  45.0  65000.0      F       Sales    G3\n",
              "4  Dheeraj Patel  30.0  42000.0      F  Operations    G2\n",
              "5  Satyam Sharma   NaN  62000.0   None       Sales    G3\n",
              "6   James Authur  54.0      NaN      F  Operations    G3\n",
              "7     Josh Wills  54.0  52000.0      F     Finance    G3\n",
              "8       Leo Duck  23.0  98000.0      M       Sales    G4"
            ],
            "text/html": [
              "\n",
              "  <div id=\"df-4313149a-ed3d-4107-8953-1fe304a5c8b2\">\n",
              "    <div class=\"colab-df-container\">\n",
              "      <div>\n",
              "<style scoped>\n",
              "    .dataframe tbody tr th:only-of-type {\n",
              "        vertical-align: middle;\n",
              "    }\n",
              "\n",
              "    .dataframe tbody tr th {\n",
              "        vertical-align: top;\n",
              "    }\n",
              "\n",
              "    .dataframe thead th {\n",
              "        text-align: right;\n",
              "    }\n",
              "</style>\n",
              "<table border=\"1\" class=\"dataframe\">\n",
              "  <thead>\n",
              "    <tr style=\"text-align: right;\">\n",
              "      <th></th>\n",
              "      <th>name</th>\n",
              "      <th>age</th>\n",
              "      <th>income</th>\n",
              "      <th>gender</th>\n",
              "      <th>department</th>\n",
              "      <th>grade</th>\n",
              "    </tr>\n",
              "  </thead>\n",
              "  <tbody>\n",
              "    <tr>\n",
              "      <th>0</th>\n",
              "      <td>Allen Smith</td>\n",
              "      <td>45.0</td>\n",
              "      <td>NaN</td>\n",
              "      <td>None</td>\n",
              "      <td>Operations</td>\n",
              "      <td>G3</td>\n",
              "    </tr>\n",
              "    <tr>\n",
              "      <th>1</th>\n",
              "      <td>S Kumar</td>\n",
              "      <td>NaN</td>\n",
              "      <td>16000.0</td>\n",
              "      <td>F</td>\n",
              "      <td>Finance</td>\n",
              "      <td>G0</td>\n",
              "    </tr>\n",
              "    <tr>\n",
              "      <th>2</th>\n",
              "      <td>Jack Morgan</td>\n",
              "      <td>32.0</td>\n",
              "      <td>35000.0</td>\n",
              "      <td>M</td>\n",
              "      <td>Finance</td>\n",
              "      <td>G2</td>\n",
              "    </tr>\n",
              "    <tr>\n",
              "      <th>3</th>\n",
              "      <td>Ying Chin</td>\n",
              "      <td>45.0</td>\n",
              "      <td>65000.0</td>\n",
              "      <td>F</td>\n",
              "      <td>Sales</td>\n",
              "      <td>G3</td>\n",
              "    </tr>\n",
              "    <tr>\n",
              "      <th>4</th>\n",
              "      <td>Dheeraj Patel</td>\n",
              "      <td>30.0</td>\n",
              "      <td>42000.0</td>\n",
              "      <td>F</td>\n",
              "      <td>Operations</td>\n",
              "      <td>G2</td>\n",
              "    </tr>\n",
              "    <tr>\n",
              "      <th>5</th>\n",
              "      <td>Satyam Sharma</td>\n",
              "      <td>NaN</td>\n",
              "      <td>62000.0</td>\n",
              "      <td>None</td>\n",
              "      <td>Sales</td>\n",
              "      <td>G3</td>\n",
              "    </tr>\n",
              "    <tr>\n",
              "      <th>6</th>\n",
              "      <td>James Authur</td>\n",
              "      <td>54.0</td>\n",
              "      <td>NaN</td>\n",
              "      <td>F</td>\n",
              "      <td>Operations</td>\n",
              "      <td>G3</td>\n",
              "    </tr>\n",
              "    <tr>\n",
              "      <th>7</th>\n",
              "      <td>Josh Wills</td>\n",
              "      <td>54.0</td>\n",
              "      <td>52000.0</td>\n",
              "      <td>F</td>\n",
              "      <td>Finance</td>\n",
              "      <td>G3</td>\n",
              "    </tr>\n",
              "    <tr>\n",
              "      <th>8</th>\n",
              "      <td>Leo Duck</td>\n",
              "      <td>23.0</td>\n",
              "      <td>98000.0</td>\n",
              "      <td>M</td>\n",
              "      <td>Sales</td>\n",
              "      <td>G4</td>\n",
              "    </tr>\n",
              "  </tbody>\n",
              "</table>\n",
              "</div>\n",
              "      <button class=\"colab-df-convert\" onclick=\"convertToInteractive('df-4313149a-ed3d-4107-8953-1fe304a5c8b2')\"\n",
              "              title=\"Convert this dataframe to an interactive table.\"\n",
              "              style=\"display:none;\">\n",
              "        \n",
              "  <svg xmlns=\"http://www.w3.org/2000/svg\" height=\"24px\"viewBox=\"0 0 24 24\"\n",
              "       width=\"24px\">\n",
              "    <path d=\"M0 0h24v24H0V0z\" fill=\"none\"/>\n",
              "    <path d=\"M18.56 5.44l.94 2.06.94-2.06 2.06-.94-2.06-.94-.94-2.06-.94 2.06-2.06.94zm-11 1L8.5 8.5l.94-2.06 2.06-.94-2.06-.94L8.5 2.5l-.94 2.06-2.06.94zm10 10l.94 2.06.94-2.06 2.06-.94-2.06-.94-.94-2.06-.94 2.06-2.06.94z\"/><path d=\"M17.41 7.96l-1.37-1.37c-.4-.4-.92-.59-1.43-.59-.52 0-1.04.2-1.43.59L10.3 9.45l-7.72 7.72c-.78.78-.78 2.05 0 2.83L4 21.41c.39.39.9.59 1.41.59.51 0 1.02-.2 1.41-.59l7.78-7.78 2.81-2.81c.8-.78.8-2.07 0-2.86zM5.41 20L4 18.59l7.72-7.72 1.47 1.35L5.41 20z\"/>\n",
              "  </svg>\n",
              "      </button>\n",
              "      \n",
              "  <style>\n",
              "    .colab-df-container {\n",
              "      display:flex;\n",
              "      flex-wrap:wrap;\n",
              "      gap: 12px;\n",
              "    }\n",
              "\n",
              "    .colab-df-convert {\n",
              "      background-color: #E8F0FE;\n",
              "      border: none;\n",
              "      border-radius: 50%;\n",
              "      cursor: pointer;\n",
              "      display: none;\n",
              "      fill: #1967D2;\n",
              "      height: 32px;\n",
              "      padding: 0 0 0 0;\n",
              "      width: 32px;\n",
              "    }\n",
              "\n",
              "    .colab-df-convert:hover {\n",
              "      background-color: #E2EBFA;\n",
              "      box-shadow: 0px 1px 2px rgba(60, 64, 67, 0.3), 0px 1px 3px 1px rgba(60, 64, 67, 0.15);\n",
              "      fill: #174EA6;\n",
              "    }\n",
              "\n",
              "    [theme=dark] .colab-df-convert {\n",
              "      background-color: #3B4455;\n",
              "      fill: #D2E3FC;\n",
              "    }\n",
              "\n",
              "    [theme=dark] .colab-df-convert:hover {\n",
              "      background-color: #434B5C;\n",
              "      box-shadow: 0px 1px 3px 1px rgba(0, 0, 0, 0.15);\n",
              "      filter: drop-shadow(0px 1px 2px rgba(0, 0, 0, 0.3));\n",
              "      fill: #FFFFFF;\n",
              "    }\n",
              "  </style>\n",
              "\n",
              "      <script>\n",
              "        const buttonEl =\n",
              "          document.querySelector('#df-4313149a-ed3d-4107-8953-1fe304a5c8b2 button.colab-df-convert');\n",
              "        buttonEl.style.display =\n",
              "          google.colab.kernel.accessAllowed ? 'block' : 'none';\n",
              "\n",
              "        async function convertToInteractive(key) {\n",
              "          const element = document.querySelector('#df-4313149a-ed3d-4107-8953-1fe304a5c8b2');\n",
              "          const dataTable =\n",
              "            await google.colab.kernel.invokeFunction('convertToInteractive',\n",
              "                                                     [key], {});\n",
              "          if (!dataTable) return;\n",
              "\n",
              "          const docLinkHtml = 'Like what you see? Visit the ' +\n",
              "            '<a target=\"_blank\" href=https://colab.research.google.com/notebooks/data_table.ipynb>data table notebook</a>'\n",
              "            + ' to learn more about interactive tables.';\n",
              "          element.innerHTML = '';\n",
              "          dataTable['output_type'] = 'display_data';\n",
              "          await google.colab.output.renderOutput(dataTable, element);\n",
              "          const docLink = document.createElement('div');\n",
              "          docLink.innerHTML = docLinkHtml;\n",
              "          element.appendChild(docLink);\n",
              "        }\n",
              "      </script>\n",
              "    </div>\n",
              "  </div>\n",
              "  "
            ]
          },
          "metadata": {},
          "execution_count": 25
        }
      ]
    },
    {
      "cell_type": "markdown",
      "source": [
        "**Escribiendo datos**"
      ],
      "metadata": {
        "id": "haEtv3TX3Nvq"
      }
    },
    {
      "cell_type": "code",
      "source": [
        "df.to_json('employee_demo.json', orient=\"columns\") "
      ],
      "metadata": {
        "id": "D4OqkDiL3LYo"
      },
      "execution_count": null,
      "outputs": []
    },
    {
      "cell_type": "markdown",
      "source": [
        "#### HTML\n"
      ],
      "metadata": {
        "id": "QV_xFpKY3Vvu"
      }
    },
    {
      "cell_type": "markdown",
      "source": [
        "**Leyendo datos**"
      ],
      "metadata": {
        "id": "QDn4WQdK70N7"
      }
    },
    {
      "cell_type": "code",
      "source": [
        "table_url = 'https://en.wikipedia.org/wiki/List_of_sovereign_states_and_dependent_territories_in_North_America'\n",
        "table_url"
      ],
      "metadata": {
        "colab": {
          "base_uri": "https://localhost:8080/",
          "height": 35
        },
        "id": "1RC_BHyy3WYP",
        "outputId": "f31c79ab-b71c-4d30-e74e-6630f4fb88ed"
      },
      "execution_count": null,
      "outputs": [
        {
          "output_type": "execute_result",
          "data": {
            "text/plain": [
              "'https://en.wikipedia.org/wiki/List_of_sovereign_states_and_dependent_territories_in_North_America'"
            ],
            "application/vnd.google.colaboratory.intrinsic+json": {
              "type": "string"
            }
          },
          "metadata": {},
          "execution_count": 27
        }
      ]
    },
    {
      "cell_type": "code",
      "source": [
        "df_list = pd.read_html(table_url)\n",
        "df_list[:1]"
      ],
      "metadata": {
        "colab": {
          "base_uri": "https://localhost:8080/"
        },
        "id": "RFUOmu4V5SQG",
        "outputId": "9ef7a126-4191-4b8e-96cb-8a0068d34059"
      },
      "execution_count": null,
      "outputs": [
        {
          "output_type": "execute_result",
          "data": {
            "text/plain": [
              "[    Flag  Map  English short, formal names, and ISO [1][2][3][4]  \\\n",
              " 0    NaN  NaN                       Antigua and Barbuda[n 1] ATG   \n",
              " 1    NaN  NaN  Bahamas, The[n 1] Commonwealth of The Bahamas BHS   \n",
              " 2    NaN  NaN                                  Barbados[n 1] BRB   \n",
              " 3    NaN  NaN                               Belize[n 1][n 2] BLZ   \n",
              " 4    NaN  NaN                                    Canada[n 3] CAN   \n",
              " 5    NaN  NaN         Costa Rica[n 2] Republic of Costa Rica CRI   \n",
              " 6    NaN  NaN                          Cuba Republic of Cuba CUB   \n",
              " 7    NaN  NaN         Dominica[n 1] Commonwealth of Dominica DMA   \n",
              " 8    NaN  NaN                        Dominican Republic[n 2] DOM   \n",
              " 9    NaN  NaN       El Salvador[n 2] Republic of El Salvador SLV   \n",
              " 10   NaN  NaN                                   Grenada[n 1] GRD   \n",
              " 11   NaN  NaN           Guatemala[n 2] Republic of Guatemala GTM   \n",
              " 12   NaN  NaN                   Haiti[n 1] Republic of Haiti HTI   \n",
              " 13   NaN  NaN             Honduras[n 2] Republic of Honduras HND   \n",
              " 14   NaN  NaN                                   Jamaica[n 1] JAM   \n",
              " 15   NaN  NaN              Mexico[n 3] United Mexican States MEX   \n",
              " 16   NaN  NaN           Nicaragua[n 2] Republic of Nicaragua NIC   \n",
              " 17   NaN  NaN                 Panama[n 2] Republic of Panama PAN   \n",
              " 18   NaN  NaN  Saint Kitts and Nevis[n 1] Federation of Saint...   \n",
              " 19   NaN  NaN                               Saint Lucia[n 1] LCA   \n",
              " 20   NaN  NaN          Saint Vincent and the Grenadines[n 1] VCT   \n",
              " 21   NaN  NaN  Trinidad and Tobago[n 1] Republic of Trinidad ...   \n",
              " 22   NaN  NaN    United States[n 3] United States of America USA   \n",
              " \n",
              "              Domestic short and formal name(s) [1][2] Capital [3][5][6]  \\\n",
              " 0                        English: Antigua and Barbuda        St. John's   \n",
              " 1    English: The Bahamas—Commonwealth of The Bahamas            Nassau   \n",
              " 2                                   English: Barbados        Bridgetown   \n",
              " 3                                     English: Belize          Belmopan   \n",
              " 4                      English: Canada French: Canada            Ottawa   \n",
              " 5       Spanish: Costa Rica — República de Costa Rica          San José   \n",
              " 6                   Spanish: Cuba — República de Cuba            Havana   \n",
              " 7        English: Dominica — Commonwealth of Dominica            Roseau   \n",
              " 8   English: Dominican Republic Spanish: República...     Santo Domingo   \n",
              " 9   English: El Salvador — Republic of El Salvador...      San Salvador   \n",
              " 10                                   English: Grenada      St. George's   \n",
              " 11        Spanish: Guatemala — República de Guatemala    Guatemala City   \n",
              " 12  French: Haïti — République d'Haïti Haitian Cre...    Port-au-Prince   \n",
              " 13          Spanish: Honduras — República de Honduras       Tegucigalpa   \n",
              " 14                                   English: Jamaica          Kingston   \n",
              " 15         Spanish: México — Estados Unidos Mexicanos       Mexico City   \n",
              " 16        Spanish: Nicaragua — República de Nicaragua           Managua   \n",
              " 17  English: Panama — Republic of Panama Spanish: ...       Panama City   \n",
              " 18  English: Saint Kitts and Nevis — Federation of...        Basseterre   \n",
              " 19                               English: Saint Lucia          Castries   \n",
              " 20          English: Saint Vincent and the Grenadines         Kingstown   \n",
              " 21  English: Trinidad and Tobago — Republic of Tri...     Port of Spain   \n",
              " 22                  English: United States of America        Washington   \n",
              " \n",
              "     Population 2021 [7][8]                         Area [9]  \\\n",
              " 0                    93219            442.6 km2 (171 sq mi)   \n",
              " 1                   407906         13,940 km2 (5,382 sq mi)   \n",
              " 2                   281200              431 km2 (166 sq mi)   \n",
              " 3                   400031         22,966 km2 (8,867 sq mi)   \n",
              " 4                 38155012  9,984,670 km2 (3,855,103 sq mi)   \n",
              " 5                  5153957        51,100 km2 (19,730 sq mi)   \n",
              " 6                 11256372       110,860 km2 (42,803 sq mi)   \n",
              " 7                    72412              754 km2 (291 sq mi)   \n",
              " 8                 11117873        48,730 km2 (18,815 sq mi)   \n",
              " 9                  6314167         21,040 km2 (8,124 sq mi)   \n",
              " 10                  124610              344 km2 (133 sq mi)   \n",
              " 11                17608483       108,890 km2 (42,043 sq mi)   \n",
              " 12                11447569        27,750 km2 (10,714 sq mi)   \n",
              " 13                10278345       112,090 km2 (43,278 sq mi)   \n",
              " 14                 2827695         10,991 km2 (4,244 sq mi)   \n",
              " 15               126705138    1,972,550 km2 (761,606 sq mi)   \n",
              " 16                 6850540       129,494 km2 (49,998 sq mi)   \n",
              " 17                 4351267        78,200 km2 (30,193 sq mi)   \n",
              " 18                   47606              261 km2 (101 sq mi)   \n",
              " 19                  179651              616 km2 (238 sq mi)   \n",
              " 20                  104332              389 km2 (150 sq mi)   \n",
              " 21                 1525663          5,128 km2 (1,980 sq mi)   \n",
              " 22               336997624  9,826,630 km2 (3,794,083 sq mi)   \n",
              " \n",
              "                               Currency [3]  \n",
              " 0                    East Caribbean dollar  \n",
              " 1                          Bahamian dollar  \n",
              " 2                         Barbadian dollar  \n",
              " 3                            Belize dollar  \n",
              " 4                          Canadian dollar  \n",
              " 5                        Costa Rican colón  \n",
              " 6        Cuban peso Cuban convertible peso  \n",
              " 7                    East Caribbean dollar  \n",
              " 8                           Dominican peso  \n",
              " 9                     United States dollar  \n",
              " 10                   East Caribbean dollar  \n",
              " 11                      Guatemalan quetzal  \n",
              " 12                          Haitian gourde  \n",
              " 13                        Honduran lempira  \n",
              " 14                         Jamaican dollar  \n",
              " 15                            Mexican peso  \n",
              " 16                      Nicaraguan córdoba  \n",
              " 17  Panamanian balboa United States dollar  \n",
              " 18                   East Caribbean dollar  \n",
              " 19                   East Caribbean dollar  \n",
              " 20                   East Caribbean dollar  \n",
              " 21              Trinidad and Tobago dollar  \n",
              " 22                    United States dollar  ]"
            ]
          },
          "metadata": {},
          "execution_count": 31
        }
      ]
    },
    {
      "cell_type": "code",
      "source": [
        "len(df_list)"
      ],
      "metadata": {
        "colab": {
          "base_uri": "https://localhost:8080/"
        },
        "id": "JKxag9Hm74y2",
        "outputId": "f582e858-08f0-4b12-9320-6cc5cbd1be34"
      },
      "execution_count": null,
      "outputs": [
        {
          "output_type": "execute_result",
          "data": {
            "text/plain": [
              "9"
            ]
          },
          "metadata": {},
          "execution_count": 32
        }
      ]
    },
    {
      "cell_type": "code",
      "source": [
        "for i in df_list:\n",
        "  print(i.shape)\n",
        "  print(i.head(1))"
      ],
      "metadata": {
        "colab": {
          "base_uri": "https://localhost:8080/"
        },
        "id": "Hg5DIwQp5Ziq",
        "outputId": "07a60766-b347-4873-c6a4-f62b3d25c26f"
      },
      "execution_count": null,
      "outputs": [
        {
          "output_type": "stream",
          "name": "stdout",
          "text": [
            "(23, 8)\n",
            "   Flag  Map English short, formal names, and ISO [1][2][3][4]  \\\n",
            "0   NaN  NaN                      Antigua and Barbuda[n 1] ATG   \n",
            "\n",
            "  Domestic short and formal name(s) [1][2] Capital [3][5][6]  \\\n",
            "0             English: Antigua and Barbuda        St. John's   \n",
            "\n",
            "   Population 2021 [7][8]               Area [9]           Currency [3]  \n",
            "0                   93219  442.6 km2 (171 sq mi)  East Caribbean dollar  \n",
            "(9, 9)\n",
            "   Flag English short, formal names, and ISO Domestic short name(s)  \\\n",
            "0   NaN                         Anguilla AIA      English: Anguilla   \n",
            "\n",
            "      Capital  Population 2021                Area               Currency  \\\n",
            "0  The Valley            15753  102 km2 (39 sq mi)  East Caribbean dollar   \n",
            "\n",
            "  Sovereign state                Legal status  \n",
            "0  United Kingdom  British Overseas Territory  \n",
            "(16, 9)\n",
            "   Flag English short, formal names, and ISO Domestic short name(s)  \\\n",
            "0   NaN           Aruba Country of Aruba ABW           Dutch: Aruba   \n",
            "\n",
            "      Capital  Population 2021                Area       Currency  \\\n",
            "0  Oranjestad           106537  193 km2 (75 sq mi)  Aruban florin   \n",
            "\n",
            "  Sovereign state                                       Legal status  \n",
            "0     Netherlands  Constituent country of the Kingdom of the Neth...  \n",
            "(2, 6)\n",
            "   Flag    English short name English long name Domestic short name(s)  \\\n",
            "0   NaN  Bajo Nuevo Bank[n 8]   Bajo Nuevo Bank    Spanish: Bajo Nuevo   \n",
            "\n",
            "                          Claimants  \\\n",
            "0  Colombia  Jamaica  United States   \n",
            "\n",
            "                                        Legal status  \n",
            "0  Uninhabited, administered by Colombia, claimed...  \n",
            "(4, 3)\n",
            "  .mw-parser-output .navbar{display:inline;font-size:88%;font-weight:normal}.mw-parser-output .navbar-collapse{float:left;text-align:left}.mw-parser-output .navbar-boxtext{word-spacing:0}.mw-parser-output .navbar ul{display:inline-block;white-space:nowrap;line-height:inherit}.mw-parser-output .navbar-brackets::before{margin-right:-0.125em;content:\"[ \"}.mw-parser-output .navbar-brackets::after{margin-left:-0.125em;content:\" ]\"}.mw-parser-output .navbar li{word-spacing:-0.125em}.mw-parser-output .navbar a>span,.mw-parser-output .navbar a>abbr{text-decoration:inherit}.mw-parser-output .navbar-mini abbr{font-variant:small-caps;border-bottom:none;text-decoration:none;cursor:inherit}.mw-parser-output .navbar-ct-full{font-size:114%;margin:0 7em}.mw-parser-output .navbar-ct-mini{font-size:114%;margin:0 4em}vteList of sovereign states and dependent territories in the Americas  \\\n",
            "0  United States and Canada Latin America and the...                                                                                                                                                                                                                                                                                                                                                                                                                                                                                                                                                                                                                                                                                                                                                                                                                                                              \n",
            "\n",
            "  .mw-parser-output .navbar{display:inline;font-size:88%;font-weight:normal}.mw-parser-output .navbar-collapse{float:left;text-align:left}.mw-parser-output .navbar-boxtext{word-spacing:0}.mw-parser-output .navbar ul{display:inline-block;white-space:nowrap;line-height:inherit}.mw-parser-output .navbar-brackets::before{margin-right:-0.125em;content:\"[ \"}.mw-parser-output .navbar-brackets::after{margin-left:-0.125em;content:\" ]\"}.mw-parser-output .navbar li{word-spacing:-0.125em}.mw-parser-output .navbar a>span,.mw-parser-output .navbar a>abbr{text-decoration:inherit}.mw-parser-output .navbar-mini abbr{font-variant:small-caps;border-bottom:none;text-decoration:none;cursor:inherit}.mw-parser-output .navbar-ct-full{font-size:114%;margin:0 7em}.mw-parser-output .navbar-ct-mini{font-size:114%;margin:0 4em}vteList of sovereign states and dependent territories in the Americas.1  \\\n",
            "0  United States and Canada Latin America and the...                                                                                                                                                                                                                                                                                                                                                                                                                                                                                                                                                                                                                                                                                                                                                                                                                                                                \n",
            "\n",
            "  .mw-parser-output .navbar{display:inline;font-size:88%;font-weight:normal}.mw-parser-output .navbar-collapse{float:left;text-align:left}.mw-parser-output .navbar-boxtext{word-spacing:0}.mw-parser-output .navbar ul{display:inline-block;white-space:nowrap;line-height:inherit}.mw-parser-output .navbar-brackets::before{margin-right:-0.125em;content:\"[ \"}.mw-parser-output .navbar-brackets::after{margin-left:-0.125em;content:\" ]\"}.mw-parser-output .navbar li{word-spacing:-0.125em}.mw-parser-output .navbar a>span,.mw-parser-output .navbar a>abbr{text-decoration:inherit}.mw-parser-output .navbar-mini abbr{font-variant:small-caps;border-bottom:none;text-decoration:none;cursor:inherit}.mw-parser-output .navbar-ct-full{font-size:114%;margin:0 7em}.mw-parser-output .navbar-ct-mini{font-size:114%;margin:0 4em}vteList of sovereign states and dependent territories in the Americas.2  \n",
            "0  United States and Canada Latin America and the...                                                                                                                                                                                                                                                                                                                                                                                                                                                                                                                                                                                                                                                                                                                                                                                                                                                               \n",
            "(10, 3)\n",
            "  vteCountries and dependencies of North America  \\\n",
            "0                               Sovereign states   \n",
            "\n",
            "    vteCountries and dependencies of North America.1  \\\n",
            "0  Entire Antigua and Barbuda The Bahamas Barbado...   \n",
            "\n",
            "   vteCountries and dependencies of North America.2  \n",
            "0                                               NaN  \n",
            "(2, 2)\n",
            "        0                                                  1\n",
            "0  Entire  Antigua and Barbuda The Bahamas Barbados Beliz...\n",
            "(6, 2)\n",
            "         0          1\n",
            "0  Denmark  Greenland\n",
            "(4, 2)\n",
            "  vteList of sovereign states and dependent territories by continent  \\\n",
            "0                                         Continents                   \n",
            "\n",
            "  vteList of sovereign states and dependent territories by continent.1  \n",
            "0  Africa Antarctica Asia Europe North America Oc...                    \n"
          ]
        }
      ]
    },
    {
      "cell_type": "code",
      "source": [
        "df_list[1].to_html('country2.html')"
      ],
      "metadata": {
        "id": "d2-yWLuC5ICk"
      },
      "execution_count": null,
      "outputs": []
    },
    {
      "cell_type": "code",
      "source": [
        "df_list[1].to_csv('country.csv')"
      ],
      "metadata": {
        "id": "4EJq1Naf6dV6"
      },
      "execution_count": null,
      "outputs": []
    }
  ]
}